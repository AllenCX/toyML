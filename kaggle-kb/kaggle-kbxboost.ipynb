{
 "cells": [
  {
   "cell_type": "code",
   "execution_count": 63,
   "metadata": {
    "collapsed": false,
    "scrolled": true
   },
   "outputs": [
    {
     "name": "stdout",
     "output_type": "stream",
     "text": [
      "The autoreload extension is already loaded. To reload it, use:\n",
      "  %reload_ext autoreload\n"
     ]
    }
   ],
   "source": [
    "import pandas as pd\n",
    "import numpy as np\n",
    "\n",
    "import seaborn as sns\n",
    "import matplotlib.pyplot as plt\n",
    "\n",
    "import xgboost as xgb\n",
    "from sklearn.ensemble import RandomForestClassifier\n",
    "from sklearn.linear_model import LinearRegression\n",
    "from sklearn.metrics import log_loss, accuracy_score\n",
    "from sklearn.cross_validation import cross_val_score, train_test_split\n",
    "from sklearn import cross_validation, metrics\n",
    "from sklearn.grid_search import GridSearchCV \n",
    "\n",
    "%matplotlib inline\n",
    "%load_ext autoreload\n",
    "%autoreload 2"
   ]
  },
  {
   "cell_type": "code",
   "execution_count": 64,
   "metadata": {
    "collapsed": false
   },
   "outputs": [],
   "source": [
    "data = pd.read_csv('data.csv')"
   ]
  },
  {
   "cell_type": "code",
   "execution_count": 65,
   "metadata": {
    "collapsed": false
   },
   "outputs": [],
   "source": [
    "#to caculate the sum of different action type such as jump shot or running jump shot\n",
    "total_actions = dict(data.action_type.value_counts())\n",
    "\n",
    "'''threshold = 10\n",
    "data['type'] = data.apply(lambda row: row['action_type'] if total_actions[row['action_type']] >= threshold \\\n",
    "                          else row['combined_shot_type'], axis = 1)'''\n",
    "\n",
    "data['time_remaining'] = data.apply(lambda row: row['minutes_remaining']*60 + row['seconds_remaining'], axis = 1)\n",
    "\n",
    "# TODO: tune this parameter\n",
    "threshold = 5\n",
    "# TODO: find out why he cant hit @ 14 secs to go\n",
    "#anomaly = 5\n",
    "\n",
    "#data['last moment'] = data.apply(lambda row: row['time_remaining'] <= threshold or row['time_remaining'] == anomaly, \n",
    "#                                axis = 1)\n",
    "data['last_moment'] = data.apply(lambda row: row['time_remaining'] <= threshold, \n",
    "                                 axis = 1)\n",
    "#data['shot_distance'] = data.apply(lambda row: 28 if row['shot_distance']>28 else row['shot_distance'], axis=1)\n",
    "\n",
    "#data['lat_lon'] = data.apply(lambda row: np.sqrt((row['lat'])**2 + (row['lon'])**2),axis = 1)\n",
    "#data['loc_xy'] = data.apply(lambda row: np.sqrt((row['loc_x'])**2 + (row['loc_y'])**2),axis = 1)"
   ]
  },
  {
   "cell_type": "code",
   "execution_count": 81,
   "metadata": {
    "collapsed": false
   },
   "outputs": [
    {
     "data": {
      "text/plain": [
       "-250"
      ]
     },
     "execution_count": 81,
     "metadata": {},
     "output_type": "execute_result"
    }
   ],
   "source": [
    "data['bin_loc_x'] = data.apply(lambda)"
   ]
  },
  {
   "cell_type": "code",
   "execution_count": 67,
   "metadata": {
    "collapsed": false
   },
   "outputs": [],
   "source": [
    "def get_acc(data, field):\n",
    "    ct = pd.crosstab(data.shot_made_flag, data[field]).apply(lambda x: x / x.sum(), axis=0)\n",
    "    x, y = ct.columns, ct.values[1, :]\n",
    "    plt.figure(figsize=(7, 5))\n",
    "    plt.plot(x, y)\n",
    "    plt.xlabel(field)\n",
    "    plt.ylabel('% shots made')\n",
    "    plt.show()"
   ]
  },
  {
   "cell_type": "code",
   "execution_count": 68,
   "metadata": {
    "collapsed": true
   },
   "outputs": [],
   "source": [
    "def sort_encode(data, field):\n",
    "    ct = pd.crosstab(data.shot_made_flag, data[field]).apply(lambda x: x / x.sum(), axis=0)\n",
    "    temp = list(zip(ct.values[1, :], ct.columns))\n",
    "    temp.sort()\n",
    "    new_map = {}\n",
    "    for index, (acc, old_number) in enumerate(temp):\n",
    "        new_map[old_number] = index\n",
    "    new_field = field + '_sort_enumerated'\n",
    "    data[new_field] = data[field].map(new_map)\n",
    "    get_acc(data, new_field)"
   ]
  },
  {
   "cell_type": "code",
   "execution_count": 69,
   "metadata": {
    "collapsed": false
   },
   "outputs": [
    {
     "data": {
      "text/plain": [
       "{'action_type': 57,\n",
       " 'combined_shot_type': 6,\n",
       " 'matchup': 74,\n",
       " 'period': 7,\n",
       " 'playoffs': 2,\n",
       " 'season': 20,\n",
       " 'shot_type': 2,\n",
       " 'shot_zone_area': 6,\n",
       " 'shot_zone_basic': 7,\n",
       " 'shot_zone_range': 5}"
      ]
     },
     "execution_count": 69,
     "metadata": {},
     "output_type": "execute_result"
    }
   ],
   "source": [
    "\n",
    "'''\n",
    "data.drop([\n",
    "        'action_type',\n",
    "        'combined_shot_type',\n",
    "        'game_event_id',\n",
    "        'game_id',\n",
    "        #'lat',\n",
    "        #'lon',\n",
    "        'minutes_remaining',\n",
    "        'seconds_remaining',\n",
    "        'time_remaining',\n",
    "        'team_id',\n",
    "        'team_name',\n",
    "        'matchup',\n",
    "        'game_date',\n",
    "        'shot_type',\n",
    "        'playoffs',\n",
    "        'season',\n",
    "        # TODO: find out whether these two features matter or not\n",
    "        #'loc_x',\n",
    "        #'loc_y',\n",
    "    ], axis=1, inplace=True)'''\n",
    "\n",
    "data.drop([\n",
    "        #'lat',\n",
    "        #'lon',\n",
    "        'minutes_remaining',\n",
    "        'seconds_remaining',\n",
    "        'game_id',\n",
    "        'game_event_id',\n",
    "        'game_date',#TODO: check if it's needed\n",
    "        #'time_remaining',\n",
    "        # TODO: find out whether these two features matter or not\n",
    "        'opponent',\n",
    "        #'matchup', \n",
    "        #'combined_shot_type',\n",
    "        'team_id',\n",
    "        'team_name',\n",
    "    ], axis=1, inplace=True)\n",
    "\n",
    "dummies = [\n",
    "    'period',\n",
    "    #'type',\n",
    "    'shot_zone_area',\n",
    "    'shot_zone_basic',\n",
    "    'shot_zone_range',\n",
    "    #'opponent',\n",
    "    #'team_id',\n",
    "    #'team_name',\n",
    "    'matchup',\n",
    "    #'game_date',\n",
    "    'shot_type',\n",
    "    'playoffs',\n",
    "    'season',\n",
    "    'action_type',\n",
    "    'combined_shot_type',\n",
    " #   'game_event_id',\n",
    "]\n",
    "dummie_counter = {}\n",
    "for dummy in dummies:\n",
    "    dummie_counter[dummy] = len(data[dummy].unique())\n",
    "data = pd.get_dummies(data, columns=dummies)\n",
    "\n",
    "\n",
    "# In[27]:\n",
    "\n",
    "dummie_counter"
   ]
  },
  {
   "cell_type": "code",
   "execution_count": 70,
   "metadata": {
    "collapsed": false
   },
   "outputs": [
    {
     "data": {
      "text/html": [
       "<div>\n",
       "<table border=\"1\" class=\"dataframe\">\n",
       "  <thead>\n",
       "    <tr style=\"text-align: right;\">\n",
       "      <th></th>\n",
       "      <th>loc_x</th>\n",
       "      <th>loc_y</th>\n",
       "      <th>shot_distance</th>\n",
       "      <th>shot_made_flag</th>\n",
       "      <th>shot_id</th>\n",
       "      <th>time_remaining</th>\n",
       "      <th>last_moment</th>\n",
       "      <th>lat_lon</th>\n",
       "      <th>period_1</th>\n",
       "      <th>period_2</th>\n",
       "      <th>...</th>\n",
       "      <th>action_type_Turnaround Fadeaway shot</th>\n",
       "      <th>action_type_Turnaround Finger Roll Shot</th>\n",
       "      <th>action_type_Turnaround Hook Shot</th>\n",
       "      <th>action_type_Turnaround Jump Shot</th>\n",
       "      <th>combined_shot_type_Bank Shot</th>\n",
       "      <th>combined_shot_type_Dunk</th>\n",
       "      <th>combined_shot_type_Hook Shot</th>\n",
       "      <th>combined_shot_type_Jump Shot</th>\n",
       "      <th>combined_shot_type_Layup</th>\n",
       "      <th>combined_shot_type_Tip Shot</th>\n",
       "    </tr>\n",
       "  </thead>\n",
       "  <tbody>\n",
       "    <tr>\n",
       "      <th>0</th>\n",
       "      <td>167</td>\n",
       "      <td>72</td>\n",
       "      <td>18</td>\n",
       "      <td>NaN</td>\n",
       "      <td>1</td>\n",
       "      <td>627</td>\n",
       "      <td>False</td>\n",
       "      <td>122.891776</td>\n",
       "      <td>1.0</td>\n",
       "      <td>0.0</td>\n",
       "      <td>...</td>\n",
       "      <td>0.0</td>\n",
       "      <td>0.0</td>\n",
       "      <td>0.0</td>\n",
       "      <td>0.0</td>\n",
       "      <td>0.0</td>\n",
       "      <td>0.0</td>\n",
       "      <td>0.0</td>\n",
       "      <td>1.0</td>\n",
       "      <td>0.0</td>\n",
       "      <td>0.0</td>\n",
       "    </tr>\n",
       "    <tr>\n",
       "      <th>1</th>\n",
       "      <td>-157</td>\n",
       "      <td>0</td>\n",
       "      <td>15</td>\n",
       "      <td>0.0</td>\n",
       "      <td>2</td>\n",
       "      <td>622</td>\n",
       "      <td>False</td>\n",
       "      <td>123.223055</td>\n",
       "      <td>1.0</td>\n",
       "      <td>0.0</td>\n",
       "      <td>...</td>\n",
       "      <td>0.0</td>\n",
       "      <td>0.0</td>\n",
       "      <td>0.0</td>\n",
       "      <td>0.0</td>\n",
       "      <td>0.0</td>\n",
       "      <td>0.0</td>\n",
       "      <td>0.0</td>\n",
       "      <td>1.0</td>\n",
       "      <td>0.0</td>\n",
       "      <td>0.0</td>\n",
       "    </tr>\n",
       "    <tr>\n",
       "      <th>2</th>\n",
       "      <td>-101</td>\n",
       "      <td>135</td>\n",
       "      <td>16</td>\n",
       "      <td>1.0</td>\n",
       "      <td>3</td>\n",
       "      <td>465</td>\n",
       "      <td>False</td>\n",
       "      <td>123.131990</td>\n",
       "      <td>1.0</td>\n",
       "      <td>0.0</td>\n",
       "      <td>...</td>\n",
       "      <td>0.0</td>\n",
       "      <td>0.0</td>\n",
       "      <td>0.0</td>\n",
       "      <td>0.0</td>\n",
       "      <td>0.0</td>\n",
       "      <td>0.0</td>\n",
       "      <td>0.0</td>\n",
       "      <td>1.0</td>\n",
       "      <td>0.0</td>\n",
       "      <td>0.0</td>\n",
       "    </tr>\n",
       "    <tr>\n",
       "      <th>3</th>\n",
       "      <td>138</td>\n",
       "      <td>175</td>\n",
       "      <td>22</td>\n",
       "      <td>0.0</td>\n",
       "      <td>4</td>\n",
       "      <td>412</td>\n",
       "      <td>False</td>\n",
       "      <td>122.891219</td>\n",
       "      <td>1.0</td>\n",
       "      <td>0.0</td>\n",
       "      <td>...</td>\n",
       "      <td>0.0</td>\n",
       "      <td>0.0</td>\n",
       "      <td>0.0</td>\n",
       "      <td>0.0</td>\n",
       "      <td>0.0</td>\n",
       "      <td>0.0</td>\n",
       "      <td>0.0</td>\n",
       "      <td>1.0</td>\n",
       "      <td>0.0</td>\n",
       "      <td>0.0</td>\n",
       "    </tr>\n",
       "    <tr>\n",
       "      <th>4</th>\n",
       "      <td>0</td>\n",
       "      <td>0</td>\n",
       "      <td>0</td>\n",
       "      <td>1.0</td>\n",
       "      <td>5</td>\n",
       "      <td>379</td>\n",
       "      <td>False</td>\n",
       "      <td>123.072174</td>\n",
       "      <td>0.0</td>\n",
       "      <td>1.0</td>\n",
       "      <td>...</td>\n",
       "      <td>0.0</td>\n",
       "      <td>0.0</td>\n",
       "      <td>0.0</td>\n",
       "      <td>0.0</td>\n",
       "      <td>0.0</td>\n",
       "      <td>1.0</td>\n",
       "      <td>0.0</td>\n",
       "      <td>0.0</td>\n",
       "      <td>0.0</td>\n",
       "      <td>0.0</td>\n",
       "    </tr>\n",
       "  </tbody>\n",
       "</table>\n",
       "<p>5 rows × 194 columns</p>\n",
       "</div>"
      ],
      "text/plain": [
       "   loc_x  loc_y  shot_distance  shot_made_flag  shot_id  time_remaining  \\\n",
       "0    167     72             18             NaN        1             627   \n",
       "1   -157      0             15             0.0        2             622   \n",
       "2   -101    135             16             1.0        3             465   \n",
       "3    138    175             22             0.0        4             412   \n",
       "4      0      0              0             1.0        5             379   \n",
       "\n",
       "  last_moment     lat_lon  period_1  period_2             ...               \\\n",
       "0       False  122.891776       1.0       0.0             ...                \n",
       "1       False  123.223055       1.0       0.0             ...                \n",
       "2       False  123.131990       1.0       0.0             ...                \n",
       "3       False  122.891219       1.0       0.0             ...                \n",
       "4       False  123.072174       0.0       1.0             ...                \n",
       "\n",
       "   action_type_Turnaround Fadeaway shot  \\\n",
       "0                                   0.0   \n",
       "1                                   0.0   \n",
       "2                                   0.0   \n",
       "3                                   0.0   \n",
       "4                                   0.0   \n",
       "\n",
       "   action_type_Turnaround Finger Roll Shot  action_type_Turnaround Hook Shot  \\\n",
       "0                                      0.0                               0.0   \n",
       "1                                      0.0                               0.0   \n",
       "2                                      0.0                               0.0   \n",
       "3                                      0.0                               0.0   \n",
       "4                                      0.0                               0.0   \n",
       "\n",
       "   action_type_Turnaround Jump Shot  combined_shot_type_Bank Shot  \\\n",
       "0                               0.0                           0.0   \n",
       "1                               0.0                           0.0   \n",
       "2                               0.0                           0.0   \n",
       "3                               0.0                           0.0   \n",
       "4                               0.0                           0.0   \n",
       "\n",
       "   combined_shot_type_Dunk  combined_shot_type_Hook Shot  \\\n",
       "0                      0.0                           0.0   \n",
       "1                      0.0                           0.0   \n",
       "2                      0.0                           0.0   \n",
       "3                      0.0                           0.0   \n",
       "4                      1.0                           0.0   \n",
       "\n",
       "   combined_shot_type_Jump Shot  combined_shot_type_Layup  \\\n",
       "0                           1.0                       0.0   \n",
       "1                           1.0                       0.0   \n",
       "2                           1.0                       0.0   \n",
       "3                           1.0                       0.0   \n",
       "4                           0.0                       0.0   \n",
       "\n",
       "   combined_shot_type_Tip Shot  \n",
       "0                          0.0  \n",
       "1                          0.0  \n",
       "2                          0.0  \n",
       "3                          0.0  \n",
       "4                          0.0  \n",
       "\n",
       "[5 rows x 194 columns]"
      ]
     },
     "execution_count": 70,
     "metadata": {},
     "output_type": "execute_result"
    }
   ],
   "source": [
    "data.head()"
   ]
  },
  {
   "cell_type": "code",
   "execution_count": 71,
   "metadata": {
    "collapsed": false
   },
   "outputs": [
    {
     "name": "stdout",
     "output_type": "stream",
     "text": [
      "train size: 25697\n",
      "test size:  5000\n",
      "(25697, 192)\n",
      "(25697,)\n"
     ]
    }
   ],
   "source": [
    "# split into train and test\n",
    "train = data[~data['shot_made_flag'].isnull()]\n",
    "test = data[data['shot_made_flag'].isnull()]\n",
    "print('train size: ' + str(len(train)))\n",
    "print('test size:  ' + str(len(test)))\n",
    "\n",
    "# prepare data for estimators\n",
    "target = 'shot_made_flag'\n",
    "features = data.columns.tolist()\n",
    "features.remove(target)\n",
    "features.remove('shot_id')\n",
    "X_test = test[features]\n",
    "X_train = train[features]\n",
    "y_train = train[[target]]['shot_made_flag'].values\n",
    "print(X_train.shape)\n",
    "print(y_train.shape)"
   ]
  },
  {
   "cell_type": "code",
   "execution_count": 72,
   "metadata": {
    "collapsed": false
   },
   "outputs": [],
   "source": [
    "def modelfit(alg, dtrain, predictors, useTrainCV=True, cv_folds=5, early_stopping_rounds=50):    \n",
    "    if useTrainCV:\n",
    "        xgb_param = alg.get_xgb_params()\n",
    "        xgtrain = xgb.DMatrix(dtrain[predictors].values, label=dtrain[target].values)\n",
    "        cvresult = xgb.cv(xgb_param, xgtrain, num_boost_round=alg.get_params()['n_estimators'], nfold=cv_folds,\n",
    "                          early_stopping_rounds=early_stopping_rounds, metrics=['logloss'])\n",
    "        alg.set_params(n_estimators=cvresult.shape[0])\n",
    "    \n",
    "    # Test params\n",
    "    X_train, X_valid, y_train, y_valid = train_test_split(dtrain[predictors], dtrain[target], test_size=0.2)\n",
    "    alg.fit(X_train, y_train, eval_metric='logloss')\n",
    "    y_pred = alg.predict_proba(X_valid)[:,1]\n",
    "    \n",
    "    result = log_loss(y_valid, y_pred)\n",
    "    print(result)\n",
    "    \n",
    "#    feat_imp = pd.Series(alg.booster().get_fscore()).sort_values(ascending=False)\n",
    "#    plt.figure(figsize=(50,10))\n",
    " #   feat_imp.plot(kind='bar', title='Feature Importances')\n",
    "#   plt.ylabel('Feature Importance Score')\n",
    "    \n",
    "    return result"
   ]
  },
  {
   "cell_type": "code",
   "execution_count": 73,
   "metadata": {
    "collapsed": false
   },
   "outputs": [
    {
     "name": "stderr",
     "output_type": "stream",
     "text": [
      "Will train until cv error hasn't decreased in 50 rounds.\n"
     ]
    },
    {
     "name": "stdout",
     "output_type": "stream",
     "text": [
      "0.598559234428\n"
     ]
    },
    {
     "data": {
      "text/plain": [
       "'log_loss@\\nlearning_rate@0.022:0.598317896313\\nlearning_rate@0.023:0.59817214783\\nlearning_rate@0.024:0.598115295043\\nlearning_rate@0.025:0.59882445545\\n'"
      ]
     },
     "execution_count": 73,
     "metadata": {},
     "output_type": "execute_result"
    }
   ],
   "source": [
    "s_result = []\n",
    "\n",
    "params = {\n",
    "    'base_score': 0.5, \n",
    "    'colsample_bylevel': 1,\n",
    "    'colsample_bytree': 0.8,\n",
    "    'learning_rate': 0.03,\n",
    "    'max_depth': 10,\n",
    "    'min_child_weight': 1,\n",
    "    'n_estimators': 200,\n",
    "    'nthread': 8,\n",
    "    'objective': 'binary:logistic',\n",
    "    'seed': 2,\n",
    "    'subsample': 0.8\n",
    "}\n",
    "\n",
    "\n",
    "clf = xgb.XGBClassifier()\n",
    "clf.set_params(**params)\n",
    "\n",
    "\n",
    "predictors = [x for x in X_train.columns if x not in target]\n",
    "result = modelfit(clf,train,predictors,useTrainCV=True, cv_folds=5, early_stopping_rounds=50)\n",
    "\n",
    "\n",
    "s_result = s_result.append(result)\n",
    "s_result = pd.Series(result)\n",
    "s_result.to_csv(\"predict_result_xgb.csv\")\n",
    "\n",
    "'''log_loss@\n",
    "learning_rate@0.022:0.598317896313\n",
    "learning_rate@0.023:0.59817214783\n",
    "learning_rate@0.024:0.598115295043\n",
    "learning_rate@0.025:0.59882445545\n",
    "'''"
   ]
  },
  {
   "cell_type": "code",
   "execution_count": 74,
   "metadata": {
    "collapsed": false
   },
   "outputs": [
    {
     "name": "stdout",
     "output_type": "stream",
     "text": [
      "results have been written!\n"
     ]
    }
   ],
   "source": [
    "clf.fit(X_train, y_train)\n",
    "\n",
    "test.shot_made_flag = [i[1] for i in clf.predict_proba(X_test)]\n",
    "\n",
    "test[['shot_id', 'shot_made_flag']].to_csv('sub.csv', index=False)\n",
    "predictions_train = clf.predict_proba(X_train)\n",
    "features_train = pd.DataFrame({'shot_made_flag': predictions_train[:, 1]})\n",
    "features_train[['shot_made_flag']].to_csv('features_train.csv', index=False)\n",
    "print(\"results have been written!\")"
   ]
  },
  {
   "cell_type": "code",
   "execution_count": null,
   "metadata": {
    "collapsed": false
   },
   "outputs": [],
   "source": [
    "param_test1 = [{\n",
    " 'max_depth':[10,11],\n",
    "#'min_child_weight':[1,3]\n",
    "}]\n",
    "gsearch1 = GridSearchCV(estimator = xgb.XGBClassifier(learning_rate =0.03, n_estimators=200,\n",
    " min_child_weight=1, gamma=0, subsample=0.8, colsample_bytree=0.8,\n",
    " objective= 'binary:logistic', nthread=4, scale_pos_weight=1, seed=2), \n",
    "                        param_grid = param_test1, scoring='log_loss',n_jobs=16,iid=False, cv=3,verbose=10)\n",
    "gsearch1.fit(train[predictors],train[target])\n",
    "gsearch1.grid_scores_, gsearch1.best_params_, gsearch1.best_score_\n",
    "\n",
    "gsresult = [gsearch1.grid_scores_, gsearch1.best_params_, gsearch1.best_score_]\n",
    "\n",
    "print gsresult\n",
    "gs_result = pd.Series(gsresult)\n",
    "gs_result.to_csv(\"gs_result_xgb.csv\")"
   ]
  },
  {
   "cell_type": "code",
   "execution_count": null,
   "metadata": {
    "collapsed": true
   },
   "outputs": [],
   "source": []
  }
 ],
 "metadata": {
  "kernelspec": {
   "display_name": "Python 2",
   "language": "python",
   "name": "python2"
  },
  "language_info": {
   "codemirror_mode": {
    "name": "ipython",
    "version": 2
   },
   "file_extension": ".py",
   "mimetype": "text/x-python",
   "name": "python",
   "nbconvert_exporter": "python",
   "pygments_lexer": "ipython2",
   "version": "2.7.10"
  }
 },
 "nbformat": 4,
 "nbformat_minor": 0
}
